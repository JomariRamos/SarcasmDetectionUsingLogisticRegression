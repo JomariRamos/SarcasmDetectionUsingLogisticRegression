{
  "nbformat": 4,
  "nbformat_minor": 2,
  "metadata": {
    "colab": {
      "name": "Sarcasm Detection Logistic Regression.ipynb",
      "provenance": [],
      "collapsed_sections": []
    },
    "kernelspec": {
      "name": "python3",
      "display_name": "Python 3"
    },
    "language_info": {
      "name": "python"
    }
  },
  "cells": [
    {
      "cell_type": "code",
      "execution_count": null,
      "source": [
        "import os,re,string,nltk,operator,math,tqdm\r\n",
        "import numpy as np\r\n",
        "import pandas as pd\r\n",
        "nltk.download('stopwords')\r\n",
        "from sklearn.feature_extraction.text import TfidfVectorizer\r\n",
        "\r\n",
        "#SHOULD I USE LogisticRegressionCV???\r\n",
        "from sklearn.linear_model import LogisticRegression\r\n",
        "\r\n",
        "from sklearn.pipeline import Pipeline\r\n",
        "from sklearn.model_selection import train_test_split,GridSearchCV\r\n",
        "from sklearn.metrics import accuracy_score, plot_confusion_matrix, f1_score, precision_score, recall_score\r\n",
        "from matplotlib import pyplot as plt\r\n",
        "\r\n",
        "#data augmentation\r\n",
        "!pip install googletrans==4.0.0-rc1\r\n",
        "from googletrans import Translator"
      ],
      "outputs": [],
      "metadata": {
        "id": "q9GpU6z0vGm4"
      }
    },
    {
      "cell_type": "code",
      "execution_count": 10,
      "source": [
        "df = pd.read_csv('tweets.csv')\r\n",
        "df = df[['tweet', 'sarcastic']]\r\n",
        "df.head()"
      ],
      "outputs": [
        {
          "output_type": "execute_result",
          "data": {
            "text/html": [
              "<div>\n",
              "<style scoped>\n",
              "    .dataframe tbody tr th:only-of-type {\n",
              "        vertical-align: middle;\n",
              "    }\n",
              "\n",
              "    .dataframe tbody tr th {\n",
              "        vertical-align: top;\n",
              "    }\n",
              "\n",
              "    .dataframe thead th {\n",
              "        text-align: right;\n",
              "    }\n",
              "</style>\n",
              "<table border=\"1\" class=\"dataframe\">\n",
              "  <thead>\n",
              "    <tr style=\"text-align: right;\">\n",
              "      <th></th>\n",
              "      <th>tweet</th>\n",
              "      <th>sarcastic</th>\n",
              "    </tr>\n",
              "  </thead>\n",
              "  <tbody>\n",
              "    <tr>\n",
              "      <th>0</th>\n",
              "      <td>The only thing I got from college is a caffein...</td>\n",
              "      <td>1</td>\n",
              "    </tr>\n",
              "    <tr>\n",
              "      <th>1</th>\n",
              "      <td>I love it when professors draw a big question ...</td>\n",
              "      <td>1</td>\n",
              "    </tr>\n",
              "    <tr>\n",
              "      <th>2</th>\n",
              "      <td>Remember the hundred emails from companies whe...</td>\n",
              "      <td>1</td>\n",
              "    </tr>\n",
              "    <tr>\n",
              "      <th>3</th>\n",
              "      <td>Today my pop-pop told me I was not “forced” to...</td>\n",
              "      <td>1</td>\n",
              "    </tr>\n",
              "    <tr>\n",
              "      <th>4</th>\n",
              "      <td>@VolphanCarol @littlewhitty @mysticalmanatee I...</td>\n",
              "      <td>1</td>\n",
              "    </tr>\n",
              "  </tbody>\n",
              "</table>\n",
              "</div>"
            ],
            "text/plain": [
              "                                               tweet  sarcastic\n",
              "0  The only thing I got from college is a caffein...          1\n",
              "1  I love it when professors draw a big question ...          1\n",
              "2  Remember the hundred emails from companies whe...          1\n",
              "3  Today my pop-pop told me I was not “forced” to...          1\n",
              "4  @VolphanCarol @littlewhitty @mysticalmanatee I...          1"
            ]
          },
          "metadata": {},
          "execution_count": 10
        }
      ],
      "metadata": {
        "colab": {
          "base_uri": "https://localhost:8080/",
          "height": 204
        },
        "id": "op7NjdLQvo94",
        "outputId": "d6eac867-8ab7-418e-9476-9b26533ae15e"
      }
    },
    {
      "cell_type": "code",
      "execution_count": 11,
      "source": [
        "df[df.isnull().any(axis=1)]\r\n",
        "df.dropna(inplace=True)\r\n",
        "df.info()"
      ],
      "outputs": [
        {
          "output_type": "stream",
          "name": "stdout",
          "text": [
            "<class 'pandas.core.frame.DataFrame'>\n",
            "Int64Index: 3467 entries, 0 to 3467\n",
            "Data columns (total 2 columns):\n",
            " #   Column     Non-Null Count  Dtype \n",
            "---  ------     --------------  ----- \n",
            " 0   tweet      3467 non-null   object\n",
            " 1   sarcastic  3467 non-null   int64 \n",
            "dtypes: int64(1), object(1)\n",
            "memory usage: 81.3+ KB\n"
          ]
        }
      ],
      "metadata": {
        "colab": {
          "base_uri": "https://localhost:8080/"
        },
        "id": "WSGMu3jXv_0P",
        "outputId": "0566d70e-a9ac-42ca-c7fa-f09ae5f2499c"
      }
    },
    {
      "cell_type": "code",
      "execution_count": 12,
      "source": [
        "def remove_punctuations(text:str)->str: \r\n",
        "  return  \"\".join(char for char in text if char not in string.punctuation)\r\n",
        "  \r\n",
        "\r\n",
        "def clean_tweet(text:str)->str:\r\n",
        "  '''Should remove hashtags and mentions first before removing punctuations'''\r\n",
        "  # remove mentions\r\n",
        "  text = re.sub('@[A-Za-z0-9_]+', '', text)\r\n",
        "\r\n",
        "  # remove hashtags\r\n",
        "  text = re.sub('#[A-Za-z0-9_]+','', text)\r\n",
        "\r\n",
        "  # remove links\r\n",
        "  text = re.sub(r\"www.\\S+\", \"\", text)\r\n",
        "  text = re.sub(r\"http\\S+\", \"\", text)\r\n",
        "  \r\n",
        "  # remove the punctuations in text from string.punctuation\r\n",
        "  text  = remove_punctuations(text)\r\n",
        "\r\n",
        "  # filter only alphanumeric characters except whitespaces\r\n",
        "  text = re.sub(\"[^A-Za-z0-9\\s]\",\"\", text)\r\n",
        "  \r\n",
        "  # replace consecutive whitespace with single space\r\n",
        "  text = re.sub('\\s+', ' ', text)\r\n",
        "  return text\r\n",
        "\r\n",
        "def tokenization(cleaned_text:str)->list:\r\n",
        "    cleaned_text = re.split('\\W+', cleaned_text)\r\n",
        "    cleaned_text = list(filter(None, cleaned_text)) #removes empty list element\r\n",
        "    return cleaned_text\r\n",
        "\r\n",
        "def remove_stopwords(tokenized_text:list)->list:\r\n",
        "\r\n",
        "    stopwords = nltk.corpus.stopwords.words('english')\r\n",
        "    stopwords.remove('no')# No and Not is important in sarcasm??\r\n",
        "    stopwords.remove('not')\r\n",
        "\r\n",
        "    stopwords = [remove_punctuations(word) for word in stopwords]\r\n",
        "    tokenized_text = [word for word in tokenized_text if word.lower() not in stopwords]\r\n",
        "    return tokenized_text\r\n",
        "\r\n",
        "''' Should I use these??\r\n",
        "  def stemming(text)\r\n",
        "\r\n",
        "  def lemmatizer(text)\r\n",
        "'''"
      ],
      "outputs": [
        {
          "output_type": "execute_result",
          "data": {
            "application/vnd.google.colaboratory.intrinsic+json": {
              "type": "string"
            },
            "text/plain": [
              "' Should I use these??\\n  def stemming(text)\\n\\n  def lemmatizer(text)\\n'"
            ]
          },
          "metadata": {},
          "execution_count": 12
        }
      ],
      "metadata": {
        "colab": {
          "base_uri": "https://localhost:8080/",
          "height": 35
        },
        "id": "7PhoYZcvwxkv",
        "outputId": "41ae8e8a-0ecb-41d9-8291-162377c0d07d"
      }
    },
    {
      "cell_type": "code",
      "execution_count": 13,
      "source": [
        "df['tweet_cleaned'] = df['tweet'].apply(lambda x: clean_tweet(x))\r\n",
        "df['tweet_tokenized'] = df['tweet_cleaned'].apply(lambda x:tokenization(x))\r\n",
        "df['tweet_no_stopwords'] = df['tweet_tokenized'].apply(lambda x:remove_stopwords(x))\r\n",
        "print(df.sarcastic.value_counts())\r\n",
        "df"
      ],
      "outputs": [
        {
          "output_type": "stream",
          "name": "stdout",
          "text": [
            "0    2600\n",
            "1     867\n",
            "Name: sarcastic, dtype: int64\n"
          ]
        },
        {
          "output_type": "execute_result",
          "data": {
            "text/html": [
              "<div>\n",
              "<style scoped>\n",
              "    .dataframe tbody tr th:only-of-type {\n",
              "        vertical-align: middle;\n",
              "    }\n",
              "\n",
              "    .dataframe tbody tr th {\n",
              "        vertical-align: top;\n",
              "    }\n",
              "\n",
              "    .dataframe thead th {\n",
              "        text-align: right;\n",
              "    }\n",
              "</style>\n",
              "<table border=\"1\" class=\"dataframe\">\n",
              "  <thead>\n",
              "    <tr style=\"text-align: right;\">\n",
              "      <th></th>\n",
              "      <th>tweet</th>\n",
              "      <th>sarcastic</th>\n",
              "      <th>tweet_cleaned</th>\n",
              "      <th>tweet_tokenized</th>\n",
              "      <th>tweet_no_stopwords</th>\n",
              "    </tr>\n",
              "  </thead>\n",
              "  <tbody>\n",
              "    <tr>\n",
              "      <th>0</th>\n",
              "      <td>The only thing I got from college is a caffein...</td>\n",
              "      <td>1</td>\n",
              "      <td>The only thing I got from college is a caffein...</td>\n",
              "      <td>[The, only, thing, I, got, from, college, is, ...</td>\n",
              "      <td>[thing, got, college, caffeine, addiction]</td>\n",
              "    </tr>\n",
              "    <tr>\n",
              "      <th>1</th>\n",
              "      <td>I love it when professors draw a big question ...</td>\n",
              "      <td>1</td>\n",
              "      <td>I love it when professors draw a big question ...</td>\n",
              "      <td>[I, love, it, when, professors, draw, a, big, ...</td>\n",
              "      <td>[love, professors, draw, big, question, mark, ...</td>\n",
              "    </tr>\n",
              "    <tr>\n",
              "      <th>2</th>\n",
              "      <td>Remember the hundred emails from companies whe...</td>\n",
              "      <td>1</td>\n",
              "      <td>Remember the hundred emails from companies whe...</td>\n",
              "      <td>[Remember, the, hundred, emails, from, compani...</td>\n",
              "      <td>[Remember, hundred, emails, companies, Covid, ...</td>\n",
              "    </tr>\n",
              "    <tr>\n",
              "      <th>3</th>\n",
              "      <td>Today my pop-pop told me I was not “forced” to...</td>\n",
              "      <td>1</td>\n",
              "      <td>Today my poppop told me I was not forced to go...</td>\n",
              "      <td>[Today, my, poppop, told, me, I, was, not, for...</td>\n",
              "      <td>[Today, poppop, told, not, forced, go, college...</td>\n",
              "    </tr>\n",
              "    <tr>\n",
              "      <th>4</th>\n",
              "      <td>@VolphanCarol @littlewhitty @mysticalmanatee I...</td>\n",
              "      <td>1</td>\n",
              "      <td>I did too and I also reported Cancun Cruz not...</td>\n",
              "      <td>[I, did, too, and, I, also, reported, Cancun, ...</td>\n",
              "      <td>[also, reported, Cancun, Cruz, not, worrying, ...</td>\n",
              "    </tr>\n",
              "    <tr>\n",
              "      <th>...</th>\n",
              "      <td>...</td>\n",
              "      <td>...</td>\n",
              "      <td>...</td>\n",
              "      <td>...</td>\n",
              "      <td>...</td>\n",
              "    </tr>\n",
              "    <tr>\n",
              "      <th>3463</th>\n",
              "      <td>The population spike in Chicago in 9 months is...</td>\n",
              "      <td>0</td>\n",
              "      <td>The population spike in Chicago in 9 months is...</td>\n",
              "      <td>[The, population, spike, in, Chicago, in, 9, m...</td>\n",
              "      <td>[population, spike, Chicago, 9, months, ridicu...</td>\n",
              "    </tr>\n",
              "    <tr>\n",
              "      <th>3464</th>\n",
              "      <td>You'd think in the second to last English clas...</td>\n",
              "      <td>0</td>\n",
              "      <td>Youd think in the second to last English class...</td>\n",
              "      <td>[Youd, think, in, the, second, to, last, Engli...</td>\n",
              "      <td>[think, second, last, English, class, year, pr...</td>\n",
              "    </tr>\n",
              "    <tr>\n",
              "      <th>3465</th>\n",
              "      <td>I’m finally surfacing after a holiday to Scotl...</td>\n",
              "      <td>0</td>\n",
              "      <td>Im finally surfacing after a holiday to Scotla...</td>\n",
              "      <td>[Im, finally, surfacing, after, a, holiday, to...</td>\n",
              "      <td>[Im, finally, surfacing, holiday, Scotland, di...</td>\n",
              "    </tr>\n",
              "    <tr>\n",
              "      <th>3466</th>\n",
              "      <td>Couldn't be prouder today. Well done to every ...</td>\n",
              "      <td>0</td>\n",
              "      <td>Couldnt be prouder today Well done to every st...</td>\n",
              "      <td>[Couldnt, be, prouder, today, Well, done, to, ...</td>\n",
              "      <td>[prouder, today, Well, done, every, student, g...</td>\n",
              "    </tr>\n",
              "    <tr>\n",
              "      <th>3467</th>\n",
              "      <td>Overheard as my 13 year old games with a frien...</td>\n",
              "      <td>0</td>\n",
              "      <td>Overheard as my 13 year old games with a frien...</td>\n",
              "      <td>[Overheard, as, my, 13, year, old, games, with...</td>\n",
              "      <td>[Overheard, 13, year, old, games, friend, smel...</td>\n",
              "    </tr>\n",
              "  </tbody>\n",
              "</table>\n",
              "<p>3467 rows × 5 columns</p>\n",
              "</div>"
            ],
            "text/plain": [
              "                                                  tweet  ...                                 tweet_no_stopwords\n",
              "0     The only thing I got from college is a caffein...  ...         [thing, got, college, caffeine, addiction]\n",
              "1     I love it when professors draw a big question ...  ...  [love, professors, draw, big, question, mark, ...\n",
              "2     Remember the hundred emails from companies whe...  ...  [Remember, hundred, emails, companies, Covid, ...\n",
              "3     Today my pop-pop told me I was not “forced” to...  ...  [Today, poppop, told, not, forced, go, college...\n",
              "4     @VolphanCarol @littlewhitty @mysticalmanatee I...  ...  [also, reported, Cancun, Cruz, not, worrying, ...\n",
              "...                                                 ...  ...                                                ...\n",
              "3463  The population spike in Chicago in 9 months is...  ...  [population, spike, Chicago, 9, months, ridicu...\n",
              "3464  You'd think in the second to last English clas...  ...  [think, second, last, English, class, year, pr...\n",
              "3465  I’m finally surfacing after a holiday to Scotl...  ...  [Im, finally, surfacing, holiday, Scotland, di...\n",
              "3466  Couldn't be prouder today. Well done to every ...  ...  [prouder, today, Well, done, every, student, g...\n",
              "3467  Overheard as my 13 year old games with a frien...  ...  [Overheard, 13, year, old, games, friend, smel...\n",
              "\n",
              "[3467 rows x 5 columns]"
            ]
          },
          "metadata": {},
          "execution_count": 13
        }
      ],
      "metadata": {
        "colab": {
          "base_uri": "https://localhost:8080/",
          "height": 470
        },
        "id": "OX_OR8oc1nZy",
        "outputId": "d59cec42-7ef0-43e0-836a-f2b828405265"
      }
    },
    {
      "cell_type": "code",
      "execution_count": 26,
      "source": [
        "#Data Augmentation (We have imbalanced data: Sarcastic -> 867, Non-sarcastic -> 2600)\r\n",
        "\r\n",
        "def data_augmentation(sequence, aug_range=1, PROB = 1):\r\n",
        "    languages = ['en', 'fr', 'th', 'tr', 'ur', 'ru', 'bg', 'de', 'ar', 'zh-cn', 'hi',\r\n",
        "                 'sw', 'vi', 'es', 'el']\r\n",
        "\r\n",
        "    augmented_tweets = []\r\n",
        "\r\n",
        "    #instantiate translator\r\n",
        "    translator = Translator()\r\n",
        "    \r\n",
        "    #store original language so we can convert back\r\n",
        "    org_lang = translator.detect(sequence).lang\r\n",
        "    \r\n",
        "    for i in range(0,aug_range):\r\n",
        "      #randomly choose language to translate sequence to  \r\n",
        "      random_lang = np.random.choice([lang for lang in languages if lang is not org_lang])\r\n",
        "      \r\n",
        "      if org_lang in languages:\r\n",
        "          #translate to new language and back to original\r\n",
        "          translated = translator.translate(sequence, dest = random_lang).text\r\n",
        "          #translate back to original language\r\n",
        "          translated_back = translator.translate(translated, dest = org_lang).text\r\n",
        "      \r\n",
        "          #apply with certain probability\r\n",
        "          if np.random.uniform(0, 1) <= PROB:\r\n",
        "              output_sequence = translated_back\r\n",
        "          else:\r\n",
        "              output_sequence = sequence\r\n",
        "          \r\n",
        "          augmented_tweets.append(output_sequence)\r\n",
        "          \r\n",
        "      #if detected language not in our list of languages, do nothing\r\n",
        "      else:\r\n",
        "          augmented_tweets.append(sequence)\r\n",
        "    \r\n",
        "    return augmented_tweets\r\n",
        "\r\n",
        "#check performance\r\n",
        "for i in range(5):\r\n",
        "    output = data_augmentation(\"The only thing I got from college is a caffeine addiction\")\r\n",
        "    print(output)"
      ],
      "outputs": [
        {
          "output_type": "stream",
          "name": "stdout",
          "text": [
            "The only thing I got from college is a caffeine addiction\n",
            "The only thing I got from university is a caffeine addiction.\n",
            "The only thing I received from the college is to stick to caffeine.\n",
            "The only thing I got from the college is a caffeine\n",
            "The only thing I got from college is a caffeine addiction\n"
          ]
        }
      ],
      "metadata": {
        "colab": {
          "base_uri": "https://localhost:8080/"
        },
        "id": "fda9UZrYECr2",
        "outputId": "915f3295-2bb1-4487-f249-d68a5171054e"
      }
    },
    {
      "cell_type": "code",
      "execution_count": 23,
      "source": [
        "# Get max intent count to match other minority classes through data augmentation\r\n",
        "intent_count = df.sarcastic.value_counts().to_dict()\r\n",
        "max_intent_count = max(intent_count.items(), key=operator.itemgetter(1))[1]\r\n",
        "max_intent_count"
      ],
      "outputs": [
        {
          "output_type": "execute_result",
          "data": {
            "text/plain": [
              "2600"
            ]
          },
          "metadata": {},
          "execution_count": 23
        }
      ],
      "metadata": {
        "colab": {
          "base_uri": "https://localhost:8080/"
        },
        "id": "NLADcdymGmkD",
        "outputId": "f811dce5-b800-4f6d-c34b-26624094884f"
      }
    },
    {
      "cell_type": "code",
      "execution_count": 27,
      "source": [
        "## Loop to interate all messages\r\n",
        "\r\n",
        "newdf = pd.DataFrame()\r\n",
        "for intent, count in intent_count.items() :\r\n",
        "    count_diff = max_intent_count - count    ## Difference to fill\r\n",
        "    multiplication_count = math.ceil((count_diff)/count)  ## Multiplying a minority classes for multiplication_count times\r\n",
        "    if (multiplication_count) :\r\n",
        "        old_message_df = pd.DataFrame()\r\n",
        "        new_message_df = pd.DataFrame()\r\n",
        "        for message in tqdm.tqdm(df[df[\"sarcastic\"] == intent][\"tweet\"]) :\r\n",
        "            ## Extracting existing minority class batch\r\n",
        "            dummy1 = pd.DataFrame([message], columns=['tweet'])\r\n",
        "            dummy1[\"sarcastic\"] = intent\r\n",
        "            old_message_df = old_message_df.append(dummy1)\r\n",
        "            \r\n",
        "            ## Creating new augmented batch from existing minority class\r\n",
        "            new_messages = data_augmentation(message, multiplication_count)\r\n",
        "            dummy2 = pd.DataFrame(new_messages, columns=['tweet'])\r\n",
        "            dummy2[\"sarcastic\"] = intent\r\n",
        "            new_message_df = new_message_df.append(dummy2)\r\n",
        "        \r\n",
        "        ## Select random data points from augmented data\r\n",
        "        new_message_df=new_message_df.take(np.random.permutation(len(new_message_df))[:count_diff])\r\n",
        "        \r\n",
        "        ## Merge existing and augmented data points\r\n",
        "        newdf = newdf.append([old_message_df,new_message_df])\r\n",
        "    else :\r\n",
        "        newdf = newdf.append(df[df[\"sarcastic\"] == intent])"
      ],
      "outputs": [
        {
          "output_type": "stream",
          "name": "stderr",
          "text": [
            "100%|██████████| 867/867 [1:03:31<00:00,  4.40s/it]\n"
          ]
        }
      ],
      "metadata": {
        "colab": {
          "base_uri": "https://localhost:8080/"
        },
        "id": "qRW9Ct2aHOCb",
        "outputId": "33bff003-9755-4b11-e465-6a6c803d0a68"
      }
    },
    {
      "cell_type": "code",
      "execution_count": 31,
      "source": [
        "newdf['tweet_cleaned'] = newdf['tweet'].apply(lambda x: clean_tweet(x))\r\n",
        "newdf['tweet_tokenized'] = newdf['tweet_cleaned'].apply(lambda x:tokenization(x))\r\n",
        "newdf['tweet_no_stopwords'] = newdf['tweet_tokenized'].apply(lambda x:remove_stopwords(x))\r\n",
        "print(newdf.sarcastic.value_counts())\r\n",
        "df"
      ],
      "outputs": [
        {
          "output_type": "stream",
          "name": "stdout",
          "text": [
            "1    2600\n",
            "0    2600\n",
            "Name: sarcastic, dtype: int64\n"
          ]
        },
        {
          "output_type": "execute_result",
          "data": {
            "text/html": [
              "<div>\n",
              "<style scoped>\n",
              "    .dataframe tbody tr th:only-of-type {\n",
              "        vertical-align: middle;\n",
              "    }\n",
              "\n",
              "    .dataframe tbody tr th {\n",
              "        vertical-align: top;\n",
              "    }\n",
              "\n",
              "    .dataframe thead th {\n",
              "        text-align: right;\n",
              "    }\n",
              "</style>\n",
              "<table border=\"1\" class=\"dataframe\">\n",
              "  <thead>\n",
              "    <tr style=\"text-align: right;\">\n",
              "      <th></th>\n",
              "      <th>tweet</th>\n",
              "      <th>sarcastic</th>\n",
              "      <th>tweet_cleaned</th>\n",
              "      <th>tweet_tokenized</th>\n",
              "      <th>tweet_no_stopwords</th>\n",
              "    </tr>\n",
              "  </thead>\n",
              "  <tbody>\n",
              "    <tr>\n",
              "      <th>0</th>\n",
              "      <td>The only thing I got from college is a caffein...</td>\n",
              "      <td>1</td>\n",
              "      <td>The only thing I got from college is a caffein...</td>\n",
              "      <td>[The, only, thing, I, got, from, college, is, ...</td>\n",
              "      <td>[thing, got, college, caffeine, addiction]</td>\n",
              "    </tr>\n",
              "    <tr>\n",
              "      <th>1</th>\n",
              "      <td>I love it when professors draw a big question ...</td>\n",
              "      <td>1</td>\n",
              "      <td>I love it when professors draw a big question ...</td>\n",
              "      <td>[I, love, it, when, professors, draw, a, big, ...</td>\n",
              "      <td>[love, professors, draw, big, question, mark, ...</td>\n",
              "    </tr>\n",
              "    <tr>\n",
              "      <th>2</th>\n",
              "      <td>Remember the hundred emails from companies whe...</td>\n",
              "      <td>1</td>\n",
              "      <td>Remember the hundred emails from companies whe...</td>\n",
              "      <td>[Remember, the, hundred, emails, from, compani...</td>\n",
              "      <td>[Remember, hundred, emails, companies, Covid, ...</td>\n",
              "    </tr>\n",
              "    <tr>\n",
              "      <th>3</th>\n",
              "      <td>Today my pop-pop told me I was not “forced” to...</td>\n",
              "      <td>1</td>\n",
              "      <td>Today my poppop told me I was not forced to go...</td>\n",
              "      <td>[Today, my, poppop, told, me, I, was, not, for...</td>\n",
              "      <td>[Today, poppop, told, not, forced, go, college...</td>\n",
              "    </tr>\n",
              "    <tr>\n",
              "      <th>4</th>\n",
              "      <td>@VolphanCarol @littlewhitty @mysticalmanatee I...</td>\n",
              "      <td>1</td>\n",
              "      <td>I did too and I also reported Cancun Cruz not...</td>\n",
              "      <td>[I, did, too, and, I, also, reported, Cancun, ...</td>\n",
              "      <td>[also, reported, Cancun, Cruz, not, worrying, ...</td>\n",
              "    </tr>\n",
              "    <tr>\n",
              "      <th>...</th>\n",
              "      <td>...</td>\n",
              "      <td>...</td>\n",
              "      <td>...</td>\n",
              "      <td>...</td>\n",
              "      <td>...</td>\n",
              "    </tr>\n",
              "    <tr>\n",
              "      <th>3463</th>\n",
              "      <td>The population spike in Chicago in 9 months is...</td>\n",
              "      <td>0</td>\n",
              "      <td>The population spike in Chicago in 9 months is...</td>\n",
              "      <td>[The, population, spike, in, Chicago, in, 9, m...</td>\n",
              "      <td>[population, spike, Chicago, 9, months, ridicu...</td>\n",
              "    </tr>\n",
              "    <tr>\n",
              "      <th>3464</th>\n",
              "      <td>You'd think in the second to last English clas...</td>\n",
              "      <td>0</td>\n",
              "      <td>Youd think in the second to last English class...</td>\n",
              "      <td>[Youd, think, in, the, second, to, last, Engli...</td>\n",
              "      <td>[think, second, last, English, class, year, pr...</td>\n",
              "    </tr>\n",
              "    <tr>\n",
              "      <th>3465</th>\n",
              "      <td>I’m finally surfacing after a holiday to Scotl...</td>\n",
              "      <td>0</td>\n",
              "      <td>Im finally surfacing after a holiday to Scotla...</td>\n",
              "      <td>[Im, finally, surfacing, after, a, holiday, to...</td>\n",
              "      <td>[Im, finally, surfacing, holiday, Scotland, di...</td>\n",
              "    </tr>\n",
              "    <tr>\n",
              "      <th>3466</th>\n",
              "      <td>Couldn't be prouder today. Well done to every ...</td>\n",
              "      <td>0</td>\n",
              "      <td>Couldnt be prouder today Well done to every st...</td>\n",
              "      <td>[Couldnt, be, prouder, today, Well, done, to, ...</td>\n",
              "      <td>[prouder, today, Well, done, every, student, g...</td>\n",
              "    </tr>\n",
              "    <tr>\n",
              "      <th>3467</th>\n",
              "      <td>Overheard as my 13 year old games with a frien...</td>\n",
              "      <td>0</td>\n",
              "      <td>Overheard as my 13 year old games with a frien...</td>\n",
              "      <td>[Overheard, as, my, 13, year, old, games, with...</td>\n",
              "      <td>[Overheard, 13, year, old, games, friend, smel...</td>\n",
              "    </tr>\n",
              "  </tbody>\n",
              "</table>\n",
              "<p>3467 rows × 5 columns</p>\n",
              "</div>"
            ],
            "text/plain": [
              "                                                  tweet  ...                                 tweet_no_stopwords\n",
              "0     The only thing I got from college is a caffein...  ...         [thing, got, college, caffeine, addiction]\n",
              "1     I love it when professors draw a big question ...  ...  [love, professors, draw, big, question, mark, ...\n",
              "2     Remember the hundred emails from companies whe...  ...  [Remember, hundred, emails, companies, Covid, ...\n",
              "3     Today my pop-pop told me I was not “forced” to...  ...  [Today, poppop, told, not, forced, go, college...\n",
              "4     @VolphanCarol @littlewhitty @mysticalmanatee I...  ...  [also, reported, Cancun, Cruz, not, worrying, ...\n",
              "...                                                 ...  ...                                                ...\n",
              "3463  The population spike in Chicago in 9 months is...  ...  [population, spike, Chicago, 9, months, ridicu...\n",
              "3464  You'd think in the second to last English clas...  ...  [think, second, last, English, class, year, pr...\n",
              "3465  I’m finally surfacing after a holiday to Scotl...  ...  [Im, finally, surfacing, holiday, Scotland, di...\n",
              "3466  Couldn't be prouder today. Well done to every ...  ...  [prouder, today, Well, done, every, student, g...\n",
              "3467  Overheard as my 13 year old games with a frien...  ...  [Overheard, 13, year, old, games, friend, smel...\n",
              "\n",
              "[3467 rows x 5 columns]"
            ]
          },
          "metadata": {},
          "execution_count": 31
        }
      ],
      "metadata": {
        "colab": {
          "base_uri": "https://localhost:8080/",
          "height": 470
        },
        "id": "AEI0U7WLXX0W",
        "outputId": "13c825b2-3ba7-4d25-8e42-f6dcbe8e71ed"
      }
    },
    {
      "cell_type": "code",
      "execution_count": 32,
      "source": [
        "#splitting data into train and test sets\n",
        "X = newdf['tweet']\n",
        "y = newdf['sarcastic']\n",
        "\n",
        "train_X, test_X, train_y, test_y = train_test_split(X, y, test_size=0.3,random_state=260)"
      ],
      "outputs": [],
      "metadata": {
        "id": "08eGKqUcG0QU"
      }
    },
    {
      "cell_type": "code",
      "execution_count": null,
      "source": [
        "# processing training and testing data\n",
        "\n",
        "def clean_tweets(text)->str:\n",
        "    text:str = clean_tweet(text)\n",
        "    tokenized_text:list = tokenization(text)\n",
        "    no_stopwords:list = remove_stopwords(tokenized_text)\n",
        "    \n",
        "#We will return a string here because TfidVectorizer tokenizes the corpus.\n",
        "    tweet = \" \".join(word for word in no_stopwords)\n",
        "    return tweet #words in no_stopwords list separated by space\n",
        "\n",
        "train_X = [clean_tweets(x) for x in train_X]\n",
        "test_X= [clean_tweets(x) for x in test_X]"
      ],
      "outputs": [],
      "metadata": {
        "id": "J6G62uE6HSyj"
      }
    },
    {
      "cell_type": "code",
      "execution_count": 48,
      "source": [
        "#Text to vectors\n",
        "\n",
        "tf_idf = TfidfVectorizer(ngram_range=(1, 2), min_df=5,max_df=0.9)\n",
        "\n",
        "tf_idf.fit(train_X)\n",
        "train_X_tfidf = tf_idf.transform(train_X)\n",
        "test_X_tfidf = tf_idf.transform(test_X)\n",
        "\n",
        "train_X_tfidf.shape\n",
        "print(test_y.value_counts())"
      ],
      "outputs": [
        {
          "output_type": "stream",
          "name": "stdout",
          "text": [
            "0    809\n",
            "1    751\n",
            "Name: sarcastic, dtype: int64\n"
          ]
        }
      ],
      "metadata": {
        "colab": {
          "base_uri": "https://localhost:8080/"
        },
        "id": "cRGzjE2S59p3",
        "outputId": "056c9192-2dee-44f1-97ce-d5bcec255e90"
      }
    },
    {
      "cell_type": "code",
      "execution_count": 50,
      "source": [
        "#Fitting and evaluating model\n",
        "\n",
        "log_reg_classifier = LogisticRegression(penalty='l1',\n",
        "                                        C=10,\n",
        "                                        solver='liblinear',\n",
        "                                        random_state=260, \n",
        "                                        )\n",
        "\n",
        "log_reg_classifier.fit(train_X_tfidf,train_y)\n",
        "\n",
        "test_y_predicted = log_reg_classifier.predict(test_X_tfidf)\n",
        "\n",
        "accuracy = accuracy_score(test_y_predicted,test_y)\n",
        "f1Score =f1_score(test_y,test_y_predicted,average='weighted')\n",
        "print(1 in test_y_predicted)\n",
        "print('Accuracy is :',accuracy)\n",
        "print('F1 score is :',f1Score)"
      ],
      "outputs": [
        {
          "output_type": "stream",
          "name": "stdout",
          "text": [
            "True\n",
            "Accuracy is : 0.676923076923077\n",
            "F1 score is : 0.6770346338825807\n"
          ]
        }
      ],
      "metadata": {
        "colab": {
          "base_uri": "https://localhost:8080/"
        },
        "id": "zD4S-5TUJCmB",
        "outputId": "013fff17-75bb-42f0-9fdf-4db9fe60d182"
      }
    },
    {
      "cell_type": "code",
      "execution_count": 51,
      "source": [
        "import warnings\n",
        "warnings.filterwarnings(\"ignore\")\n",
        "\n",
        "#using gridsearchCV\n",
        "grid_values = {'penalty': ['l1','l2','elasticnet'], \n",
        "               'C': [1e-5, 1e-3, 1e-1, 1e0, 1e1, 1e2], \n",
        "               'solver':['liblinear','lbfgs','newton-cg','saga'],\n",
        "               'random_state':[260],\n",
        "               }\n",
        "\n",
        "log_reg=LogisticRegression()\n",
        "\n",
        "log_reg_cv=GridSearchCV(log_reg,\n",
        "                        param_grid=grid_values,\n",
        "                        cv=10,\n",
        "                        n_jobs=1,\n",
        "                        scoring='accuracy'\n",
        "                        )\n",
        "best_fit = log_reg_cv.fit(train_X_tfidf,train_y)\n",
        "\n",
        "print(\"best hyperparameters :\",best_fit.best_params_)\n",
        "print(\"accuracy :\",best_fit.best_score_)\n",
        "print(\"best estimator :\", best_fit.best_estimator_)"
      ],
      "outputs": [
        {
          "output_type": "stream",
          "name": "stdout",
          "text": [
            "best hyperparameters : {'C': 10.0, 'penalty': 'l1', 'random_state': 260, 'solver': 'liblinear'}\n",
            "accuracy : 0.6942307692307692\n",
            "best estimator : LogisticRegression(C=10.0, class_weight=None, dual=False, fit_intercept=True,\n",
            "                   intercept_scaling=1, l1_ratio=None, max_iter=100,\n",
            "                   multi_class='auto', n_jobs=None, penalty='l1',\n",
            "                   random_state=260, solver='liblinear', tol=0.0001, verbose=0,\n",
            "                   warm_start=False)\n"
          ]
        }
      ],
      "metadata": {
        "colab": {
          "base_uri": "https://localhost:8080/"
        },
        "id": "hRTCeWb8OocF",
        "outputId": "f420f8cb-7605-44e6-a40c-dcf21b6c51a7"
      }
    },
    {
      "cell_type": "code",
      "execution_count": 52,
      "source": [
        "predicted = log_reg_classifier.predict(test_X_tfidf)\n",
        "print(\"Accuracy:\",accuracy_score(test_y, predicted))\n",
        "print(\"Precision:\",precision_score(test_y, predicted))\n",
        "print(\"Recall:\",recall_score(test_y, predicted))\n",
        "\n",
        "plot_confusion_matrix(log_reg_classifier, test_X_tfidf, test_y)"
      ],
      "outputs": [
        {
          "output_type": "stream",
          "name": "stdout",
          "text": [
            "Accuracy: 0.676923076923077\n",
            "Precision: 0.6585365853658537\n",
            "Recall: 0.6830892143808256\n"
          ]
        },
        {
          "output_type": "execute_result",
          "data": {
            "text/plain": [
              "<sklearn.metrics._plot.confusion_matrix.ConfusionMatrixDisplay at 0x7f8ed32983d0>"
            ]
          },
          "metadata": {},
          "execution_count": 52
        },
        {
          "output_type": "display_data",
          "data": {
            "image/png": "[encoded data removed]",
            "text/plain": [
              "<Figure size 432x288 with 2 Axes>"
            ]
          },
          "metadata": {
            "needs_background": "light"
          }
        }
      ],
      "metadata": {
        "colab": {
          "base_uri": "https://localhost:8080/",
          "height": 347
        },
        "id": "9QbY0eUpJfsp",
        "outputId": "0c7b7e72-2389-4877-8052-811e79c38434"
      }
    }
  ]
}